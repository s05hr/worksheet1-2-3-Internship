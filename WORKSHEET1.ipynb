{
 "cells": [
  {
   "cell_type": "markdown",
   "id": "c2cdd2c4",
   "metadata": {},
   "source": [
    "# PYTHON-WORKSHEET1"
   ]
  },
  {
   "cell_type": "code",
   "execution_count": 1,
   "id": "96fae8d1",
   "metadata": {},
   "outputs": [
    {
     "name": "stdout",
     "output_type": "stream",
     "text": [
      "Factorial of 10 is 3628800\n"
     ]
    }
   ],
   "source": [
    "#11. Write a python program to find the factorial of a number.\n",
    "\n",
    "number=10\n",
    "def factorial(n):\n",
    "    return 1 if(n==1 or n==0) else n* factorial(n-1)\n",
    "print(\"Factorial of\",number,\"is\",factorial(number))"
   ]
  },
  {
   "cell_type": "code",
   "execution_count": 2,
   "id": "40734bfb",
   "metadata": {},
   "outputs": [
    {
     "name": "stdout",
     "output_type": "stream",
     "text": [
      "11 is a prime number\n"
     ]
    }
   ],
   "source": [
    "#12. Write a python program to find whether a number is prime or composite.\n",
    "\n",
    "n=11\n",
    "#n=int(input(\"enter a number:\"))\n",
    "if n == 1:\n",
    "    print(n,\"is neither a prime and composite number\")\n",
    "elif n > 1:\n",
    "    for i in range(2,n):\n",
    "        if (n % i) == 0:\n",
    "            print(n,\"is a composite number\")\n",
    "            break\n",
    "    else:\n",
    "        print(n,\"is a prime number\")\n",
    "else:\n",
    "    print(n,\"is a composite number\")"
   ]
  },
  {
   "cell_type": "code",
   "execution_count": 3,
   "id": "058bc5dd",
   "metadata": {},
   "outputs": [
    {
     "name": "stdout",
     "output_type": "stream",
     "text": [
      "No,This String is not Palindrome\n"
     ]
    }
   ],
   "source": [
    "#13. Write a python program to check whether a given string is palindrome or not.\n",
    "\n",
    "def isPalindrome(a):\n",
    "    return a == a[::-1]\n",
    " \n",
    "a = \"Data\"\n",
    "b= isPalindrome(a)\n",
    " \n",
    "if b:\n",
    "    print(\"Yes,This String is palindrome\")\n",
    "else:\n",
    "    print(\"No,This String is not Palindrome\")"
   ]
  },
  {
   "cell_type": "code",
   "execution_count": 4,
   "id": "3c8296ff",
   "metadata": {},
   "outputs": [
    {
     "name": "stdout",
     "output_type": "stream",
     "text": [
      "Height:3.0\n",
      "Base:4.0\n",
      "Hypotenuse:5.0\n"
     ]
    }
   ],
   "source": [
    "#14. Write a Python program to get the third side of right-angled triangle from two given sides.\n",
    "\n",
    "def pythagoras(height,base,hypotenuse):\n",
    "    if height == str(\"x\"):\n",
    "        return (\"Height:\" + str(((pow(hypotenuse,2))-(pow(base,2)))**0.5))\n",
    "    elif base == str(\"x\"):\n",
    "        return (\"Base:\"+str(((pow(hypotenuse,2))-(pow(height,2)))**0.5))\n",
    "    elif hypotenuse == str(\"x\"):\n",
    "        return (\"Hypotenuse:\"+str (((pow(height,2))+(pow(base,2)))**0.5))\n",
    "               \n",
    "print(pythagoras('x',4,5))\n",
    "print(pythagoras(3,'x',5))\n",
    "print(pythagoras(3,4,'x'))\n",
    "   "
   ]
  },
  {
   "cell_type": "code",
   "execution_count": 5,
   "id": "ceb780c3",
   "metadata": {},
   "outputs": [
    {
     "name": "stdout",
     "output_type": "stream",
     "text": [
      "Frequency of each of the characters present in the string:\n",
      " {'a': 3, 'd': 2, 't': 2, 'r': 1, 'i': 1, 'e': 1, 'n': 1}\n"
     ]
    }
   ],
   "source": [
    "#15. Write a python program to print the frequency of each of the characters present in a given string.\n",
    "\n",
    "string = \"datatrained\"\n",
    "a = {i: string.count(i) for i in set(string)}\n",
    "print(\"Frequency of each of the characters present in the string:\\n \" + str(a))"
   ]
  },
  {
   "cell_type": "code",
   "execution_count": null,
   "id": "6920479b",
   "metadata": {},
   "outputs": [],
   "source": []
  }
 ],
 "metadata": {
  "kernelspec": {
   "display_name": "Python 3 (ipykernel)",
   "language": "python",
   "name": "python3"
  },
  "language_info": {
   "codemirror_mode": {
    "name": "ipython",
    "version": 3
   },
   "file_extension": ".py",
   "mimetype": "text/x-python",
   "name": "python",
   "nbconvert_exporter": "python",
   "pygments_lexer": "ipython3",
   "version": "3.9.12"
  }
 },
 "nbformat": 4,
 "nbformat_minor": 5
}
