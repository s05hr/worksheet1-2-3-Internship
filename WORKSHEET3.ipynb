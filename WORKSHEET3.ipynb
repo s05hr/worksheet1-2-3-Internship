{
 "cells": [
  {
   "cell_type": "markdown",
   "id": "e67f3323",
   "metadata": {},
   "source": [
    "# PYTHON-- WORKSHEET3"
   ]
  },
  {
   "cell_type": "code",
   "execution_count": 1,
   "id": "1d1c019b",
   "metadata": {},
   "outputs": [
    {
     "name": "stdout",
     "output_type": "stream",
     "text": [
      "    * \r\n",
      "   * * \r\n",
      "  * * * \r\n",
      " * * * * \r\n",
      "* * * * * \r\n"
     ]
    }
   ],
   "source": [
    "#11. Write a python function print pyramid of stars. Level of the pyramid should be taken as an input from the user. E.g.\n",
    "#Input = 5\n",
    "\n",
    "#n=int(input(\"Enter a number:\"))\n",
    "n=5\n",
    "def pyramid(n):\n",
    "    m=n-1\n",
    "    for i in range(0,n):\n",
    "        for j in range(0,m):\n",
    "            print(end=\" \")\n",
    "        m=m-1\n",
    "        for j in range (0,i+1):\n",
    "            print(\"* \",end=\"\")\n",
    "        print(\"\\r\")\n",
    "        \n",
    "pyramid(n)\n"
   ]
  },
  {
   "cell_type": "code",
   "execution_count": 2,
   "id": "f587daaf",
   "metadata": {},
   "outputs": [
    {
     "name": "stdout",
     "output_type": "stream",
     "text": [
      "   * * * * * * \n",
      "    * * * * * \n",
      "     * * * * \n",
      "      * * * \n",
      "       * * \n",
      "        * \n",
      "        * \n",
      "       * * \n",
      "      * * * \n",
      "     * * * * \n",
      "    * * * * * \n",
      "   * * * * * * \n"
     ]
    }
   ],
   "source": [
    "#12. Write a python function print Hourglass pattern. E.g.\n",
    "#Input = 5\n",
    " \n",
    "n=5\n",
    "\n",
    "k=n-2\n",
    "\n",
    "for i in range(n,-1,-1):\n",
    "    for j in range(k,0,-1):\n",
    "        print(end=\" \")\n",
    "        \n",
    "    k= k + 1\n",
    "    \n",
    "    for j in range(0,i+1):\n",
    "        print(\"*\",end=\" \")\n",
    "    print()\n",
    "    \n",
    "k=2*n - 2\n",
    "\n",
    "for i in range(0,n+1):\n",
    "    for j in range(0,k):\n",
    "        print(end=\" \")\n",
    "        \n",
    "    k=k-1\n",
    "    for j in range(0,i+1):\n",
    "        print(\"* \",end=\"\")\n",
    "    print()    "
   ]
  },
  {
   "cell_type": "code",
   "execution_count": 3,
   "id": "69eeaf03",
   "metadata": {},
   "outputs": [
    {
     "name": "stdout",
     "output_type": "stream",
     "text": [
      "      1 \n",
      "     1 1 \n",
      "    1 2 1 \n",
      "   1 3 3 1 \n",
      "  1 4 6 4 1 \n"
     ]
    }
   ],
   "source": [
    "#13. Write a python function to print Pascal’s Triangle. The number of levels in the triangle must be taken as input by the user. E.g.\n",
    "#Input = 5\n",
    "\n",
    "from math import factorial\n",
    "n = 5\n",
    "for i in range(n):\n",
    "    for j in range(n-i+1):\n",
    "        print(end=\" \")\n",
    " \n",
    "    for j in range(i+1):\n",
    "        print(factorial(i)//(factorial(j)*factorial(i-j)), end=\" \")\n",
    "    print()"
   ]
  },
  {
   "cell_type": "code",
   "execution_count": 4,
   "id": "ae219075",
   "metadata": {},
   "outputs": [
    {
     "name": "stdout",
     "output_type": "stream",
     "text": [
      "Enter the number:5\n",
      "        * \n",
      "       * * \n",
      "      * * * \n",
      "     * * * * \n",
      "    * * * * * \n",
      "   * * * * * * \n",
      "    * * * * * \n",
      "     * * * * \n",
      "      * * * \n",
      "       * * \n",
      "        * \n"
     ]
    }
   ],
   "source": [
    "#14. Write a python function to print Diamond Shaped Pattern shown below. Function must take integer input which represents the number of stars in the middle most line. E.g.:Input = 5\n",
    "\n",
    "\n",
    "n = int(input('Enter the number:'))\n",
    "k = 2 * n - 2\n",
    "for i in range(0, n):\n",
    "    for j in range(0, k):\n",
    "        print(end= ' ')\n",
    "    k = k - 1\n",
    "    for j in range(0, i + 1):\n",
    "        print('* ', end= '') \n",
    "    print('') \n",
    "    \n",
    "k = n - 2\n",
    "for i in range(n, -1, -1):\n",
    "    for j in range(k, 0, -1):\n",
    "        print(end= ' ')\n",
    "    k = k + 1\n",
    "    for j in range(0, i + 1):\n",
    "        print('* ', end= '')\n",
    "    print('') "
   ]
  },
  {
   "cell_type": "code",
   "execution_count": 5,
   "id": "30cd4b92",
   "metadata": {},
   "outputs": [],
   "source": [
    "#15. Write a python function to print Diamond Shaped Character Pattern shown below. Function must take integer input within range 1 to 26, which represents the rank of the alphabet. E.g.:Input = 5\n",
    "\n",
    "\n"
   ]
  },
  {
   "cell_type": "code",
   "execution_count": null,
   "id": "cef4216b",
   "metadata": {},
   "outputs": [],
   "source": []
  }
 ],
 "metadata": {
  "kernelspec": {
   "display_name": "Python 3 (ipykernel)",
   "language": "python",
   "name": "python3"
  },
  "language_info": {
   "codemirror_mode": {
    "name": "ipython",
    "version": 3
   },
   "file_extension": ".py",
   "mimetype": "text/x-python",
   "name": "python",
   "nbconvert_exporter": "python",
   "pygments_lexer": "ipython3",
   "version": "3.9.12"
  }
 },
 "nbformat": 4,
 "nbformat_minor": 5
}
