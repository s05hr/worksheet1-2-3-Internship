{
 "cells": [
  {
   "cell_type": "markdown",
   "id": "5f3ac2fc",
   "metadata": {},
   "source": [
    "# WORKSHEET 2--PYTHON"
   ]
  },
  {
   "cell_type": "code",
   "execution_count": 1,
   "id": "3bed49af",
   "metadata": {},
   "outputs": [
    {
     "name": "stdout",
     "output_type": "stream",
     "text": [
      "Enter a:4\n",
      "Enter b:5\n",
      "Enter c:6\n",
      "Complex Roots are:\n",
      "-0.625 +j 8.426149773176359\n",
      "-0.625 -j 8.426149773176359\n"
     ]
    }
   ],
   "source": [
    "#14. Write a python program to solve a quadratic equation of the form ax^2+bx+c=0. Where a, b and c are to be\n",
    "#taken by user input. Handle the erroneous input, such as ‘a’ should not be equal to 0.\n",
    "\n",
    "import math  \n",
    "  \n",
    "def quad(a, b, c):   \n",
    "    d = ((b*b)- (4*a*c))  \n",
    "    d2 = math.sqrt(abs(d))  \n",
    "  \n",
    "    if d > 0:  \n",
    "        print(\"Real and Different Roots are:\")  \n",
    "        print((-b+d2)/(2*a))  \n",
    "        print((-b-d2)/(2*a))  \n",
    "    elif d == 0:  \n",
    "        print(\"Real and Same Roots are:\")  \n",
    "        print(-b/(2*a))  \n",
    "    else:  \n",
    "        print(\"Complex Roots are:\")  \n",
    "        print(-b/(2*a),\"+j\",d2)  \n",
    "        print(-b/(2*a),\"-j\",d2)  \n",
    "  \n",
    "\n",
    "\n",
    "a = int(input(\"Enter a:\"))  \n",
    "b = int(input(\"Enter b:\"))  \n",
    "c = int(input(\"Enter c:\"))  \n",
    "      \n",
    "if a == 0:  \n",
    "    print(\"Incorrect quadratic equation\")   \n",
    "else:  \n",
    "    quad(a, b, c)  "
   ]
  },
  {
   "cell_type": "code",
   "execution_count": 2,
   "id": "75dc50a8",
   "metadata": {},
   "outputs": [
    {
     "name": "stdout",
     "output_type": "stream",
     "text": [
      "Enter a Number:9\n",
      "Sum of first n natural numbers: 45.0\n"
     ]
    }
   ],
   "source": [
    "#15. Write a python program to find the sum of first ‘n’ natural numbers without using any loop. Ask users to input the value of ‘n’.\n",
    "\n",
    "\n",
    "n=int(input(\"Enter a Number:\"))\n",
    "\n",
    "s=float((n*(n+1))*0.5)\n",
    "print(\"Sum of first n natural numbers:\",s)"
   ]
  },
  {
   "cell_type": "code",
   "execution_count": null,
   "id": "e2cc995c",
   "metadata": {},
   "outputs": [],
   "source": []
  }
 ],
 "metadata": {
  "kernelspec": {
   "display_name": "Python 3 (ipykernel)",
   "language": "python",
   "name": "python3"
  },
  "language_info": {
   "codemirror_mode": {
    "name": "ipython",
    "version": 3
   },
   "file_extension": ".py",
   "mimetype": "text/x-python",
   "name": "python",
   "nbconvert_exporter": "python",
   "pygments_lexer": "ipython3",
   "version": "3.9.12"
  }
 },
 "nbformat": 4,
 "nbformat_minor": 5
}
